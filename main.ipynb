{
  "nbformat": 4,
  "nbformat_minor": 0,
  "metadata": {
    "colab": {
      "private_outputs": true,
      "provenance": []
    },
    "kernelspec": {
      "name": "python3",
      "display_name": "Python 3"
    },
    "language_info": {
      "name": "python"
    }
  },
  "cells": [
    {
      "cell_type": "code",
      "execution_count": null,
      "metadata": {
        "id": "J_Et76yKtkHP"
      },
      "outputs": [],
      "source": [
        "# to install python packages at runtime use ! as prefix\n",
        "!pip install rdflib\n",
        "!pip install deep_translator\n",
        "from rdflib import BNode, URIRef, Literal, Graph, Namespace\n",
        "from rdflib.collection import Collection\n",
        "from rdflib.util import guess_format\n",
        "from rdflib.namespace import RDF, XSD, RDFS, OWL, SKOS, DCTERMS, NamespaceManager\n",
        "from rdflib.plugins.sparql import prepareQuery\n",
        "from typing import List\n",
        "from re import sub\n",
        "from deep_translator import GoogleTranslator\n",
        "import logging\n",
        "logger = logging.getLogger()\n",
        "logger.setLevel(logging.INFO)\n",
        "\n",
        "\n",
        "# Snake Chase - your_term\n",
        "def snake_case(s):\n",
        "  return '_'.join(\n",
        "    sub('([A-Z][a-z]+)', r' \\1',\n",
        "    sub('([A-Z]+)', r' \\1',\n",
        "    s.replace('-', ' '))).split()).lower()\n",
        "\n",
        "# Camel Chase - yourTerm\n",
        "def lower_camel_case(s):\n",
        "  #print(s)\n",
        "  s = sub(r\"(_|-)+\", \" \", s).title().replace(\" \", \"\")\n",
        "  return ''.join([s[0].lower(), s[1:]])\n",
        "\n",
        "# Pascal Chase -  YourTerm\n",
        "def upper_camel_case(s):\n",
        "  #print(s)\n",
        "  s = sub(r\"(_|-)+\", \" \", s).title().replace(\" \", \"\")\n",
        "  return s\n",
        "\n",
        "def strip_special_chars(s):\n",
        "    #return sub('[^A-Za-z0-9]+', ' ', s)\n",
        "    return sub('\\W+',' ', s )\n",
        "\n",
        "\n",
        "\n",
        "\n"
      ]
    },
    {
      "cell_type": "code",
      "source": [
        "# add namespaces if needed\n",
        "bfo2020_url='http://purl.obolibrary.org/obo/bfo/2020/bfo.owl'\n",
        "BFO = Namespace(bfo2020_url+\"/\")\n",
        "OBO = Namespace('http://purl.obolibrary.org/obo/')\n"
      ],
      "metadata": {
        "id": "tguYQt500Ak5"
      },
      "execution_count": null,
      "outputs": []
    },
    {
      "cell_type": "code",
      "source": [
        "# load an ontology from the web\n",
        "g = Graph()\n",
        "g.parse(\"https://kupferdigital.gitlab.io/ontologies/kdo/ontology.ttl\")"
      ],
      "metadata": {
        "id": "LoAzwCWkutJJ"
      },
      "execution_count": null,
      "outputs": []
    },
    {
      "cell_type": "code",
      "source": [
        "# get all subclasses of an entity\n",
        "sub_classes = prepareQuery(\"SELECT ?entity WHERE {?entity rdfs:subClassOf* ?parent}\")\n",
        "def get_all_sub_classes(superclass: URIRef, ontology: Graph) -> List[URIRef]:\n",
        "    \"\"\"Gets all subclasses of a given class.\n",
        "\n",
        "    Args:\n",
        "        superclass (URIRef): Rdflib URIRef of the superclass\n",
        "\n",
        "    Returns:\n",
        "        List[URIRef]: List of all subclasses\n",
        "    \"\"\"\n",
        "    # parse template and add mapping results\n",
        "    results = list(\n",
        "        ontology.query(\n",
        "            sub_classes,\n",
        "            initBindings={\"parent\": superclass},\n",
        "            # initNs={'cco': CCO, 'mseo': MSEO},\n",
        "        ),\n",
        "    )\n",
        "    # print(list(ontology[ : RDFS.subClassOf]))\n",
        "    classes = [result[0] for result in results]\n",
        "    logger.debug(\"Found following subclasses of {}: {}\".format(superclass, classes))\n",
        "    logger.debug(\"Found {} subclasses of {}\".format(len(classes),superclass))\n",
        "    return classes\n"
      ],
      "metadata": {
        "id": "oDpjDQX2usBl"
      },
      "execution_count": null,
      "outputs": []
    },
    {
      "cell_type": "code",
      "source": [
        "# simple query\n",
        "i=0\n",
        "for s,p,o in g.triples((None,None,None)):\n",
        "  print(s,p,o)\n",
        "  i+=1\n",
        "  if i>20:\n",
        "    break\n"
      ],
      "metadata": {
        "id": "U10lH3IuwVb3"
      },
      "execution_count": null,
      "outputs": []
    },
    {
      "cell_type": "code",
      "source": [
        "# translate all labels with Google Translator\n",
        "\n",
        "all_labels = prepareQuery(\"SELECT ?entity ?label WHERE {?entity rdfs:label ?label}\")\n",
        "\n",
        "def translate_labels_google(g: Graph, language: str='de'):\n",
        "    translator=GoogleTranslator(source='auto', target=language)\n",
        "    res=dict()\n",
        "    labels=g.query(all_labels)\n",
        "    for thing, label in labels:\n",
        "        if thing not in res.keys():\n",
        "            res[thing]={}\n",
        "        res[thing][label.language]=label\n",
        "    i=0\n",
        "    for thing, labels in res.items():\n",
        "        if not all(lang in labels.keys() for lang in (\"en\",\"de\")):\n",
        "            #entitys with only one label\n",
        "            #print(thing,labels)\n",
        "            #translate and add triple\n",
        "            if labels.get('en',None):\n",
        "                label_de=Literal(translator.translate(labels['en']),lang=language)\n",
        "                logging.info('adding german label {} for entity {}'.format(label_de, thing))\n",
        "                g.add((thing,RDFS.label,label_de))\n",
        "                #add curation status - requires discussion\n",
        "                g.add((thing,OBO.IAO_0000114,OBO.IAO_0000428))\n",
        "                i+=1\n",
        "    logging.info(\"translated {} labels to [{}]\".format(i,language))\n",
        "    return g\n",
        "\n",
        "onto=translate_labels_google(g,language='de')\n",
        "\n"
      ],
      "metadata": {
        "id": "DI43BArMxG8p"
      },
      "execution_count": null,
      "outputs": []
    },
    {
      "cell_type": "code",
      "source": [],
      "metadata": {
        "id": "GfMudrtwx5ZA"
      },
      "execution_count": null,
      "outputs": []
    }
  ]
}
